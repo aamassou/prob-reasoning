{
 "cells": [
  {
   "cell_type": "code",
   "execution_count": 28,
   "metadata": {
    "collapsed": true
   },
   "outputs": [],
   "source": [
    "def create_t_matrix():\n",
    "    width = grid_size\n",
    "    height = grid_size\n",
    "    t = np.array(np.zeros(shape=(width * height * 4, width * height * 4)))\n",
    "\n",
    "    for i in xrange(width * height * 4):\n",
    "        x = i / (height * 4)\n",
    "        y = (i / 4) % height\n",
    "        heading = i % 4\n",
    "        prev_states = self.probable_transitions((x, y, heading))\n",
    "        for (xcoord, ycoord, direction), probability in prev_states:\n",
    "            t[i, xcoord * height * 4 + ycoord * 4 + direction] = probability\n",
    "    return t\n",
    "\n",
    "def probable_transitions(state):\n",
    "    \"\"\"\n",
    "    Finds the neighbors of particular coord.\n",
    "    :param state: tuple of (x, y, heading)\n",
    "    :return : list of empty squares that are adjacent to, with probability\n",
    "    \"\"\"\n",
    "    x, y, direction = state\n",
    "    # came from: NORTH, EAST, SOUTH, WEST\n",
    "    neighbors = [(x, y - 1), (x - 1, y), (x, y + 1), (x + 1, y)]\n",
    "    prev_square = neighbors[direction]\n",
    "    prev_x, prev_y = prev_square\n",
    "\n",
    "    # Check bounds\n",
    "    if prev_x < 0 or prev_x >= grid_size or prev_y < 0 or prev_y >= grid_size:\n",
    "        return []\n",
    "\n",
    "    # Always 0.7 chance if coming in same direction.\n",
    "    square_dir = [((prev_x, prev_y, direction), 0.7)]\n",
    "    dirs_left = range(4)\n",
    "    dirs_left.remove(direction)\n",
    "    # Check if any directions point to walls.\n",
    "    faces_wall = []\n",
    "    if Direction.WEST in dirs_left:\n",
    "        if prev_x == 0:\n",
    "            faces_wall.append((prev_x, prev_y, Direction.WEST))\n",
    "        else:\n",
    "            square_dir.append(((prev_x, prev_y, Direction.WEST), 0.1))\n",
    "    if Direction.EAST in dirs_left:\n",
    "        if prev_x == self.width - 1:\n",
    "            faces_wall.append((prev_x, prev_y, Direction.EAST))\n",
    "        else:\n",
    "            square_dir.append(((prev_x, prev_y, Direction.EAST), 0.1))\n",
    "    if Direction.SOUTH in dirs_left:\n",
    "        if prev_y == 0:\n",
    "            faces_wall.append((prev_x, prev_y, Direction.SOUTH))\n",
    "        else:\n",
    "            square_dir.append(((prev_x, prev_y, Direction.SOUTH), 0.1))\n",
    "    if Direction.NORTH in dirs_left:\n",
    "        if prev_y == self.height - 1:\n",
    "            faces_wall.append((prev_x, prev_y, Direction.NORTH))\n",
    "        else:\n",
    "            square_dir.append(((prev_x, prev_y, Direction.NORTH), 0.1))\n",
    "\n",
    "    for state in faces_wall:\n",
    "        square_dir.append((state, float(1) / (4 - len(faces_wall))))\n",
    "    return square_dir"
   ]
  },
  {
   "cell_type": "code",
   "execution_count": 29,
   "metadata": {},
   "outputs": [
    {
     "data": {
      "text/plain": [
       "[1, 4]"
      ]
     },
     "execution_count": 29,
     "metadata": {},
     "output_type": "execute_result"
    }
   ],
   "source": [
    "a = [1,2,4]\n",
    "a.remove(2)\n",
    "a"
   ]
  },
  {
   "cell_type": "code",
   "execution_count": 35,
   "metadata": {},
   "outputs": [
    {
     "data": {
      "text/plain": [
       "array([[1, 3],\n",
       "       [2, 4]])"
      ]
     },
     "execution_count": 35,
     "metadata": {},
     "output_type": "execute_result"
    }
   ],
   "source": [
    "import numpy as np\n",
    "a = np.array([[1,2],[3,4]])\n",
    "a.transpose()"
   ]
  },
  {
   "cell_type": "code",
   "execution_count": null,
   "metadata": {
    "collapsed": true
   },
   "outputs": [],
   "source": []
  }
 ],
 "metadata": {
  "kernelspec": {
   "display_name": "Python 2",
   "language": "python",
   "name": "python2"
  },
  "language_info": {
   "codemirror_mode": {
    "name": "ipython",
    "version": 2
   },
   "file_extension": ".py",
   "mimetype": "text/x-python",
   "name": "python",
   "nbconvert_exporter": "python",
   "pygments_lexer": "ipython2",
   "version": "2.7.13"
  }
 },
 "nbformat": 4,
 "nbformat_minor": 2
}
